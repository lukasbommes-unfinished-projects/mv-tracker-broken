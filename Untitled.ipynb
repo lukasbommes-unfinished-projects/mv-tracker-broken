{
 "cells": [
  {
   "cell_type": "code",
   "execution_count": 1,
   "metadata": {},
   "outputs": [],
   "source": [
    "import numpy as np\n",
    "import os"
   ]
  },
  {
   "cell_type": "code",
   "execution_count": 2,
   "metadata": {},
   "outputs": [],
   "source": [
    "dir_names = [\n",
    "    'MOT17-01-DPM',\n",
    "    'MOT17-01-FRCNN',\n",
    "    'MOT17-01-SDP',\n",
    "    'MOT17-03-DPM',\n",
    "    'MOT17-03-FRCNN',\n",
    "    'MOT17-03-SDP',\n",
    "    'MOT17-06-DPM',\n",
    "    'MOT17-06-FRCNN',\n",
    "    'MOT17-06-SDP',\n",
    "    'MOT17-07-DPM',\n",
    "    'MOT17-07-FRCNN',\n",
    "    'MOT17-07-SDP',\n",
    "    'MOT17-08-DPM',\n",
    "    'MOT17-08-FRCNN',\n",
    "    'MOT17-08-SDP',\n",
    "    'MOT17-12-DPM',\n",
    "    'MOT17-12-FRCNN',\n",
    "    'MOT17-12-SDP',\n",
    "    'MOT17-14-DPM',\n",
    "    'MOT17-14-FRCNN',\n",
    "    'MOT17-14-SDP',\n",
    "]"
   ]
  },
  {
   "cell_type": "code",
   "execution_count": 3,
   "metadata": {},
   "outputs": [],
   "source": [
    "def load_detections(det_file):\n",
    "    raw_data = np.genfromtxt(det_file, delimiter=',')\n",
    "    detections = raw_data\n",
    "    return detections"
   ]
  },
  {
   "cell_type": "code",
   "execution_count": 4,
   "metadata": {},
   "outputs": [
    {
     "name": "stdout",
     "output_type": "stream",
     "text": [
      "[[ 1.0000e+00 -1.0000e+00  7.7268e+02 ... -1.0000e+00 -1.0000e+00\n",
      "  -1.0000e+00]\n",
      " [ 1.0000e+00 -1.0000e+00  7.1779e+02 ... -1.0000e+00 -1.0000e+00\n",
      "  -1.0000e+00]\n",
      " [ 1.0000e+00 -1.0000e+00  2.3074e+02 ... -1.0000e+00 -1.0000e+00\n",
      "  -1.0000e+00]\n",
      " ...\n",
      " [ 4.5000e+02 -1.0000e+00  1.7248e+02 ... -1.0000e+00 -1.0000e+00\n",
      "  -1.0000e+00]\n",
      " [ 4.5000e+02 -1.0000e+00  2.8900e+02 ... -1.0000e+00 -1.0000e+00\n",
      "  -1.0000e+00]\n",
      " [ 4.5000e+02 -1.0000e+00  1.6055e+03 ... -1.0000e+00 -1.0000e+00\n",
      "  -1.0000e+00]]\n"
     ]
    }
   ],
   "source": [
    "detections = load_detections(os.path.join('benchmark/MOT17/test', dir_names[0], 'det/det.txt'))\n",
    "print(detections)"
   ]
  },
  {
   "cell_type": "code",
   "execution_count": null,
   "metadata": {},
   "outputs": [],
   "source": []
  },
  {
   "cell_type": "code",
   "execution_count": 5,
   "metadata": {},
   "outputs": [],
   "source": [
    "detections_new = []\n",
    "for frame_idx in set(detections[:, 0]):\n",
    "    idx = np.where(detections[:, 0] == frame_idx)\n",
    "    detections_new.append(np.stack(detections[idx], axis=0)[:, 2:6])"
   ]
  },
  {
   "cell_type": "code",
   "execution_count": 7,
   "metadata": {},
   "outputs": [
    {
     "data": {
      "text/plain": [
       "450"
      ]
     },
     "execution_count": 7,
     "metadata": {},
     "output_type": "execute_result"
    }
   ],
   "source": [
    "len(detections_new)"
   ]
  },
  {
   "cell_type": "code",
   "execution_count": null,
   "metadata": {},
   "outputs": [],
   "source": []
  }
 ],
 "metadata": {
  "kernelspec": {
   "display_name": "Python 3",
   "language": "python",
   "name": "python3"
  },
  "language_info": {
   "codemirror_mode": {
    "name": "ipython",
    "version": 3
   },
   "file_extension": ".py",
   "mimetype": "text/x-python",
   "name": "python",
   "nbconvert_exporter": "python",
   "pygments_lexer": "ipython3",
   "version": "3.7.1"
  }
 },
 "nbformat": 4,
 "nbformat_minor": 2
}
