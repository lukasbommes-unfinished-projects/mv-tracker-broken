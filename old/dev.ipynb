{
 "cells": [
  {
   "cell_type": "code",
   "execution_count": 1,
   "metadata": {},
   "outputs": [],
   "source": [
    "import glob\n",
    "import numpy as np\n",
    "import cv2\n",
    "import os\n",
    "from config import EvalConfig as Config\n",
    "from mvt.utils import draw_boxes, draw_box_ids"
   ]
  },
  {
   "cell_type": "code",
   "execution_count": 2,
   "metadata": {},
   "outputs": [],
   "source": [
    "def load_detections(det_file):\n",
    "    detections = []\n",
    "    raw_data = np.genfromtxt(det_file, delimiter=',')\n",
    "    for frame_idx in sorted(set(raw_data[:, 0])):\n",
    "        idx = np.where(raw_data[:, 0] == frame_idx)\n",
    "        detections.append(np.stack(raw_data[idx], axis=0)[:, 2:6])\n",
    "    return detections\n",
    "\n",
    "def load_groundtruth(gt_file, only_eval=False):\n",
    "    \"\"\"\n",
    "    Args:\n",
    "        gt_file (string): Full path of a MOT groundtruth txt file.\n",
    "        \n",
    "        only_eval (bool): If False load all groundtruth entries, otherwise\n",
    "            load only entries in which column 7 is 1 indicating an entry that\n",
    "            is to be considered during evaluation.\n",
    "    \"\"\"\n",
    "    gt_boxes = []\n",
    "    gt_ids = []\n",
    "    gt_classes = []\n",
    "    raw_data = np.genfromtxt(gt_file, delimiter=',')\n",
    "    for frame_idx in sorted(set(raw_data[:, 0])):\n",
    "        idx = np.where(raw_data[:, 0] == frame_idx)\n",
    "        gt_box = np.stack(raw_data[idx], axis=0)[:, 2:6]\n",
    "        gt_id = np.stack(raw_data[idx], axis=0)[:, 1]\n",
    "        gt_class = np.stack(raw_data[idx], axis=0)[:, 7]\n",
    "        consider_in_eval = np.stack(raw_data[idx], axis=0)[:, 6]\n",
    "        consider_in_eval = consider_in_eval.astype(np.bool)\n",
    "        if only_eval:\n",
    "            gt_box = gt_box[consider_in_eval]\n",
    "            gt_id = gt_id[consider_in_eval]\n",
    "        gt_boxes.append(gt_box)\n",
    "        gt_ids.append(gt_id)\n",
    "        gt_classes.append(gt_class)\n",
    "    return gt_ids, gt_boxes, gt_classes"
   ]
  },
  {
   "cell_type": "code",
   "execution_count": 3,
   "metadata": {},
   "outputs": [
    {
     "ename": "AttributeError",
     "evalue": "type object 'EvalConfig' has no attribute 'DET_TYPE'",
     "output_type": "error",
     "traceback": [
      "\u001b[0;31m---------------------------------------------------------------------------\u001b[0m",
      "\u001b[0;31mAttributeError\u001b[0m                            Traceback (most recent call last)",
      "\u001b[0;32m<ipython-input-3-a863f596923c>\u001b[0m in \u001b[0;36m<module>\u001b[0;34m\u001b[0m\n\u001b[1;32m      1\u001b[0m \u001b[0mseq_idx\u001b[0m \u001b[0;34m=\u001b[0m \u001b[0;34m\"02\"\u001b[0m\u001b[0;34m\u001b[0m\u001b[0;34m\u001b[0m\u001b[0m\n\u001b[0;32m----> 2\u001b[0;31m \u001b[0mvideo_file\u001b[0m \u001b[0;34m=\u001b[0m \u001b[0mos\u001b[0m\u001b[0;34m.\u001b[0m\u001b[0mpath\u001b[0m\u001b[0;34m.\u001b[0m\u001b[0mjoin\u001b[0m\u001b[0;34m(\u001b[0m\u001b[0mConfig\u001b[0m\u001b[0;34m.\u001b[0m\u001b[0mDATA_DIR\u001b[0m\u001b[0;34m,\u001b[0m \u001b[0;34m'train'\u001b[0m\u001b[0;34m,\u001b[0m \u001b[0;34m'MOT17-{}-{}/seq.avi'\u001b[0m\u001b[0;34m.\u001b[0m\u001b[0mformat\u001b[0m\u001b[0;34m(\u001b[0m\u001b[0mseq_idx\u001b[0m\u001b[0;34m,\u001b[0m \u001b[0mConfig\u001b[0m\u001b[0;34m.\u001b[0m\u001b[0mDET_TYPE\u001b[0m\u001b[0;34m)\u001b[0m\u001b[0;34m)\u001b[0m\u001b[0;34m\u001b[0m\u001b[0;34m\u001b[0m\u001b[0m\n\u001b[0m\u001b[1;32m      3\u001b[0m \u001b[0mdetections\u001b[0m \u001b[0;34m=\u001b[0m \u001b[0mload_detections\u001b[0m\u001b[0;34m(\u001b[0m\u001b[0mos\u001b[0m\u001b[0;34m.\u001b[0m\u001b[0mpath\u001b[0m\u001b[0;34m.\u001b[0m\u001b[0mjoin\u001b[0m\u001b[0;34m(\u001b[0m\u001b[0mConfig\u001b[0m\u001b[0;34m.\u001b[0m\u001b[0mDATA_DIR\u001b[0m\u001b[0;34m,\u001b[0m \u001b[0;34m'train'\u001b[0m\u001b[0;34m,\u001b[0m \u001b[0;34m'MOT17-{}-{}/det/det.txt'\u001b[0m\u001b[0;34m.\u001b[0m\u001b[0mformat\u001b[0m\u001b[0;34m(\u001b[0m\u001b[0mseq_idx\u001b[0m\u001b[0;34m,\u001b[0m \u001b[0mConfig\u001b[0m\u001b[0;34m.\u001b[0m\u001b[0mDET_TYPE\u001b[0m\u001b[0;34m)\u001b[0m\u001b[0;34m)\u001b[0m\u001b[0;34m)\u001b[0m\u001b[0;34m\u001b[0m\u001b[0;34m\u001b[0m\u001b[0m\n\u001b[1;32m      4\u001b[0m \u001b[0mgt_ids\u001b[0m\u001b[0;34m,\u001b[0m \u001b[0mgt_boxes\u001b[0m\u001b[0;34m,\u001b[0m \u001b[0mgt_classes\u001b[0m \u001b[0;34m=\u001b[0m \u001b[0mload_groundtruth\u001b[0m\u001b[0;34m(\u001b[0m\u001b[0mos\u001b[0m\u001b[0;34m.\u001b[0m\u001b[0mpath\u001b[0m\u001b[0;34m.\u001b[0m\u001b[0mjoin\u001b[0m\u001b[0;34m(\u001b[0m\u001b[0mConfig\u001b[0m\u001b[0;34m.\u001b[0m\u001b[0mDATA_DIR\u001b[0m\u001b[0;34m,\u001b[0m \u001b[0;34m'train'\u001b[0m\u001b[0;34m,\u001b[0m \u001b[0;34m'MOT17-{}-{}/gt/gt.txt'\u001b[0m\u001b[0;34m.\u001b[0m\u001b[0mformat\u001b[0m\u001b[0;34m(\u001b[0m\u001b[0mseq_idx\u001b[0m\u001b[0;34m,\u001b[0m \u001b[0mConfig\u001b[0m\u001b[0;34m.\u001b[0m\u001b[0mDET_TYPE\u001b[0m\u001b[0;34m)\u001b[0m\u001b[0;34m)\u001b[0m\u001b[0;34m,\u001b[0m \u001b[0monly_eval\u001b[0m\u001b[0;34m=\u001b[0m\u001b[0;32mTrue\u001b[0m\u001b[0;34m)\u001b[0m\u001b[0;34m\u001b[0m\u001b[0;34m\u001b[0m\u001b[0m\n",
      "\u001b[0;31mAttributeError\u001b[0m: type object 'EvalConfig' has no attribute 'DET_TYPE'"
     ]
    }
   ],
   "source": [
    "seq_idx = \"02\"\n",
    "video_file = os.path.join(Config.DATA_DIR, 'train', 'MOT17-{}-{}/seq.avi'.format(seq_idx, Config.DET_TYPE))\n",
    "detections = load_detections(os.path.join(Config.DATA_DIR, 'train', 'MOT17-{}-{}/det/det.txt'.format(seq_idx, Config.DET_TYPE)))\n",
    "gt_ids, gt_boxes, gt_classes = load_groundtruth(os.path.join(Config.DATA_DIR, 'train', 'MOT17-{}-{}/gt/gt.txt'.format(seq_idx, Config.DET_TYPE)), only_eval=True)"
   ]
  },
  {
   "cell_type": "code",
   "execution_count": 15,
   "metadata": {},
   "outputs": [
    {
     "data": {
      "text/plain": [
       "{1.0, 2.0, 4.0, 7.0, 8.0, 9.0}"
      ]
     },
     "execution_count": 15,
     "metadata": {},
     "output_type": "execute_result"
    }
   ],
   "source": [
    "set(list(np.hstack(gt_classes)))"
   ]
  },
  {
   "cell_type": "code",
   "execution_count": 65,
   "metadata": {},
   "outputs": [
    {
     "data": {
      "text/plain": [
       "array([[ 9.120e+02,  4.840e+02,  9.700e+01,  1.090e+02],\n",
       "       [ 1.342e+03,  4.170e+02,  1.680e+02,  3.800e+02],\n",
       "       [ 5.860e+02,  4.460e+02,  8.500e+01,  2.640e+02],\n",
       "       [ 1.585e+03, -1.000e+00,  3.360e+02,  5.780e+02],\n",
       "       [ 1.163e+03,  4.410e+02,  3.300e+01,  8.900e+01],\n",
       "       [ 1.308e+03,  4.310e+02,  3.400e+01,  1.180e+02],\n",
       "       [ 1.422e+03,  4.310e+02,  1.830e+02,  3.370e+02],\n",
       "       [ 1.055e+03,  4.830e+02,  3.600e+01,  1.100e+02],\n",
       "       [ 1.090e+03,  4.840e+02,  3.200e+01,  1.140e+02],\n",
       "       [ 7.330e+02,  4.870e+02,  3.000e+01,  6.800e+01],\n",
       "       [ 6.790e+02,  4.920e+02,  5.200e+01,  1.050e+02],\n",
       "       [ 7.370e+02,  4.570e+02,  2.700e+01,  7.500e+01],\n",
       "       [ 1.255e+03,  4.470e+02,  3.300e+01,  1.000e+02],\n",
       "       [ 1.015e+03,  4.300e+02,  4.000e+01,  1.160e+02],\n",
       "       [ 1.100e+03,  4.400e+02,  3.800e+01,  1.080e+02],\n",
       "       [ 9.340e+02,  4.350e+02,  4.200e+01,  1.140e+02],\n",
       "       [ 4.420e+02,  4.460e+02,  1.070e+02,  2.820e+02],\n",
       "       [ 6.360e+02,  4.580e+02,  6.100e+01,  1.870e+02],\n",
       "       [ 1.365e+03,  4.340e+02,  5.200e+01,  1.240e+02],\n",
       "       [ 1.480e+03,  4.330e+02,  6.200e+01,  1.250e+02],\n",
       "       [ 4.730e+02,  4.600e+02,  8.900e+01,  2.490e+02],\n",
       "       [ 8.350e+02,  4.730e+02,  5.200e+01,  7.500e+01],\n",
       "       [ 7.960e+02,  4.760e+02,  5.500e+01,  6.000e+01],\n",
       "       [ 5.470e+02,  4.640e+02,  3.500e+01,  9.300e+01],\n",
       "       [ 3.750e+02,  4.460e+02,  4.100e+01,  1.040e+02],\n",
       "       [ 4.180e+02,  4.590e+02,  4.000e+01,  8.400e+01],\n",
       "       [ 5.820e+02,  4.550e+02,  3.400e+01,  1.340e+02],\n",
       "       [ 9.720e+02,  4.560e+02,  3.200e+01,  7.700e+01],\n",
       "       [ 6.930e+02,  4.620e+02,  2.100e+01,  6.700e+01],\n",
       "       [ 7.120e+02,  4.770e+02,  2.000e+01,  5.700e+01],\n",
       "       [ 7.330e+02,  5.040e+02,  3.100e+01,  4.500e+01],\n",
       "       [ 9.100e+02,  4.080e+02,  2.600e+01,  1.290e+02],\n",
       "       [ 7.300e+02,  5.090e+02,  3.700e+01,  6.000e+01],\n",
       "       [ 6.790e+02,  5.280e+02,  4.600e+01,  7.900e+01],\n",
       "       [ 1.003e+03,  4.530e+02,  1.800e+01,  6.100e+01],\n",
       "       [ 5.780e+02,  4.310e+02,  2.000e+01,  4.300e+01],\n",
       "       [ 5.950e+02,  4.280e+02,  1.800e+01,  4.200e+01],\n",
       "       [ 1.035e+03,  4.520e+02,  2.500e+01,  6.700e+01],\n",
       "       [ 6.640e+02,  4.510e+02,  3.400e+01,  8.500e+01]])"
      ]
     },
     "execution_count": 65,
     "metadata": {},
     "output_type": "execute_result"
    }
   ],
   "source": [
    "image_files = sorted(glob.glob(os.path.join(Config.DATA_DIR, 'train', 'MOT17-{}-{}/img1/*.jpg'.format(seq_idx, Config.DET_TYPE))))\n",
    "for i, image_file in enumerate(image_files):\n",
    "    image = cv2.imread(image_file, cv2.IMREAD_COLOR)\n",
    "\n",
    "    image = draw_boxes(image, gt_boxes[i])\n",
    "    image = draw_boxes(image, detections[i], color=(255,255,255))\n",
    "\n",
    "    cv2.imshow(\"frame\", image)\n",
    "    if cv2.waitKey(25) & 0xFF == ord('q'):\n",
    "        break"
   ]
  },
  {
   "cell_type": "code",
   "execution_count": null,
   "metadata": {},
   "outputs": [],
   "source": []
  }
 ],
 "metadata": {
  "kernelspec": {
   "display_name": "Python 3",
   "language": "python",
   "name": "python3"
  },
  "language_info": {
   "codemirror_mode": {
    "name": "ipython",
    "version": 3
   },
   "file_extension": ".py",
   "mimetype": "text/x-python",
   "name": "python",
   "nbconvert_exporter": "python",
   "pygments_lexer": "ipython3",
   "version": "3.7.1"
  }
 },
 "nbformat": 4,
 "nbformat_minor": 2
}
