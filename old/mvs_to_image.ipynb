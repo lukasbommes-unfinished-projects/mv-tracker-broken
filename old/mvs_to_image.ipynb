{
 "cells": [
  {
   "cell_type": "code",
   "execution_count": 350,
   "metadata": {},
   "outputs": [],
   "source": [
    "import sys\n",
    "sys.path.append(\"..\")\n",
    "import pickle\n",
    "import cv2\n",
    "import matplotlib.pyplot as plt\n",
    "from mvt.utils import draw_boxes, draw_motion_vectors\n",
    "import seaborn as sns\n",
    "import numpy as np\n",
    "import math\n",
    "import torch"
   ]
  },
  {
   "cell_type": "code",
   "execution_count": 351,
   "metadata": {},
   "outputs": [],
   "source": [
    "def get_nonzero_vectors(motion_vectors):\n",
    "    \"\"\"Returns subset of motion vectors which have non-zero magnitude.\n",
    "    \"\"\"\n",
    "    if np.shape(motion_vectors)[0] == 0:\n",
    "        return motion_vectors\n",
    "    else:\n",
    "        idx = np.where(np.logical_or(motion_vectors[:, 7] != 0, motion_vectors[:, 8] != 0))[0]\n",
    "        return motion_vectors[idx, :]\n",
    "    \n",
    "def draw_motion_vectors(frame, motion_vectors):\n",
    "    if np.shape(motion_vectors)[0] > 0:\n",
    "        num_mvs = np.shape(motion_vectors)[0]\n",
    "        for mv in np.split(motion_vectors, num_mvs):\n",
    "            start_pt = (mv[0, 3], mv[0, 4])\n",
    "            end_pt = (mv[0, 5], mv[0, 6])\n",
    "            if mv[0, 0] < 0:\n",
    "                cv2.arrowedLine(frame, start_pt, end_pt, (0, 0, 255), 1, cv2.LINE_AA, 0, 0.3)\n",
    "            else:\n",
    "                cv2.arrowedLine(frame, start_pt, end_pt, (0, 255, 0), 1, cv2.LINE_AA, 0, 0.3)\n",
    "    return frame"
   ]
  },
  {
   "cell_type": "code",
   "execution_count": 352,
   "metadata": {},
   "outputs": [],
   "source": [
    "motion_vectors = pickle.load(open(\"motion_vectors_h264.pkl\", \"rb\"))"
   ]
  },
  {
   "cell_type": "code",
   "execution_count": 353,
   "metadata": {},
   "outputs": [
    {
     "data": {
      "text/plain": [
       "(6370, 10)"
      ]
     },
     "execution_count": 353,
     "metadata": {},
     "output_type": "execute_result"
    }
   ],
   "source": [
    "motion_vectors.shape"
   ]
  },
  {
   "cell_type": "code",
   "execution_count": 354,
   "metadata": {},
   "outputs": [],
   "source": [
    "def motion_vectors_to_image(motion_vectors, frame_shape=(1920, 1080)):\n",
    "    \"\"\"Converts a set of motion vectors into a BGR image.\n",
    "    \n",
    "    Args:\n",
    "        motion_vectors (`numpy.ndarray`): Motion vector array with shape [N, 10]\n",
    "            as returned by VideoCap. The motion vector array should only contain P-vectors\n",
    "            which can be filtered out by using get_vectors_by_source(motion_vectors, \"past\").\n",
    "            Also, the reference frame should be normalized by using normalize_vectors.\n",
    "        \n",
    "        frame_shape (`tuple` of `int`): Desired (width, height) in pixels of the returned image.\n",
    "            Should correspond to the size of the source footage of which the motion vectors\n",
    "            where extracted.\n",
    "    \n",
    "    Returns:\n",
    "        `numpy.ndarray` The motion vectors encoded as image. Image shape is (height, widht, 3)\n",
    "        and channel order is BGR. The red channel contains the scaled x motion components of \n",
    "        the motion vectors and the green channel the scaled y motion components. Scaled means\n",
    "        the motion components are normalized to range [0, 1].\n",
    "    \"\"\"\n",
    "    \n",
    "    # process non-zero vectors only to speed up computations below\n",
    "    motion_vectors = get_nonzero_vectors(motion_vectors)\n",
    "    \n",
    "    # compute necessary frame shape\n",
    "    frame_shape = (1920, 1080)\n",
    "    need_width = math.ceil(frame_shape[0] / 16) * 16\n",
    "    need_height = math.ceil(frame_shape[1] / 16) * 16\n",
    "\n",
    "    image = np.zeros((need_height, need_width, 3), dtype=np.float32)\n",
    "\n",
    "    # get minimum and maximum values\n",
    "    mvs_dst_x = motion_vectors[:, 5]\n",
    "    mvs_dst_y = motion_vectors[:, 6]\n",
    "    mb_w = motion_vectors[:, 1]\n",
    "    mb_h = motion_vectors[:, 2]\n",
    "    mvs_tl_x = (mvs_dst_x - 0.5 * mb_w).astype(np.int64)\n",
    "    mvs_tl_y = (mvs_dst_y - 0.5 * mb_h).astype(np.int64)\n",
    "\n",
    "    # compute value\n",
    "    mvs_motion_x = (motion_vectors[:, 7] / motion_vectors[:, 9]).reshape(-1, 1)\n",
    "    mvs_motion_y = (motion_vectors[:, 8] / motion_vectors[:, 9]).reshape(-1, 1)\n",
    "\n",
    "    mvs_min_x = np.min(mvs_motion_x)\n",
    "    mvs_max_x = np.max(mvs_motion_x)\n",
    "    mvs_min_y = np.min(mvs_motion_y)\n",
    "    mvs_max_y = np.max(mvs_motion_y)\n",
    "\n",
    "    mvs_motion_x = (mvs_motion_x - mvs_min_x) / (mvs_max_x - mvs_min_x)\n",
    "    mvs_motion_y = (mvs_motion_y - mvs_min_y) / (mvs_max_y - mvs_min_y)\n",
    "\n",
    "    for i, motion_vector in enumerate(motion_vectors):\n",
    "        # repeat value\n",
    "        mvs_motion_x_repeated = np.repeat(np.repeat(mvs_motion_x[i, :].reshape(1, 1), mb_h[i], axis=0), mb_w[i], axis=1)\n",
    "        mvs_motion_y_repeated = np.repeat(np.repeat(mvs_motion_y[i, :].reshape(1, 1), mb_h[i], axis=0), mb_w[i], axis=1)\n",
    "\n",
    "        # insert repeated block into image\n",
    "        image[mvs_tl_y[i]:mvs_tl_y[i]+mb_h[i], mvs_tl_x[i]:mvs_tl_x[i]+mb_w[i], 2] = mvs_motion_x_repeated\n",
    "        image[mvs_tl_y[i]:mvs_tl_y[i]+mb_h[i], mvs_tl_x[i]:mvs_tl_x[i]+mb_w[i], 1] = mvs_motion_y_repeated\n",
    "\n",
    "    # crop the image back to frame_shape\n",
    "    image = image[0:frame_shape[1], 0:frame_shape[0], :]\n",
    "    \n",
    "    return image\n",
    "\n",
    "image = motion_vectors_to_image(motion_vectors)"
   ]
  },
  {
   "cell_type": "code",
   "execution_count": 355,
   "metadata": {},
   "outputs": [
    {
     "name": "stderr",
     "output_type": "stream",
     "text": [
      "Clipping input data to the valid range for imshow with RGB data ([0..1] for floats or [0..255] for integers).\n"
     ]
    },
    {
     "data": {
      "image/png": "[encoded data removed]",
      "text/plain": [
       "<Figure size 1800x1800 with 1 Axes>"
      ]
     },
     "metadata": {
      "needs_background": "light"
     },
     "output_type": "display_data"
    }
   ],
   "source": [
    "image = draw_motion_vectors(image, get_nonzero_vectors(motion_vectors))\n",
    "\n",
    "\n",
    "image[:, :, [0, 1, 2]] = image[:, :, [2, 1, 0]] # matplotlib needs RGB channel order\n",
    "f, ax = plt.subplots(figsize=(25,25))\n",
    "ax.imshow(image)\n",
    "plt.show()"
   ]
  },
  {
   "cell_type": "code",
   "execution_count": null,
   "metadata": {},
   "outputs": [],
   "source": []
  }
 ],
 "metadata": {
  "kernelspec": {
   "display_name": "Python 3",
   "language": "python",
   "name": "python3"
  },
  "language_info": {
   "codemirror_mode": {
    "name": "ipython",
    "version": 3
   },
   "file_extension": ".py",
   "mimetype": "text/x-python",
   "name": "python",
   "nbconvert_exporter": "python",
   "pygments_lexer": "ipython3",
   "version": "3.7.1"
  }
 },
 "nbformat": 4,
 "nbformat_minor": 2
}
