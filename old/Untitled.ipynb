{
 "cells": [
  {
   "cell_type": "code",
   "execution_count": 19,
   "metadata": {},
   "outputs": [],
   "source": [
    "import numpy as np\n",
    "import os"
   ]
  },
  {
   "cell_type": "code",
   "execution_count": 20,
   "metadata": {},
   "outputs": [],
   "source": [
    "dir_names = [\n",
    "    'MOT17-01-DPM',\n",
    "    'MOT17-01-FRCNN',\n",
    "    'MOT17-01-SDP',\n",
    "    'MOT17-03-DPM',\n",
    "    'MOT17-03-FRCNN',\n",
    "    'MOT17-03-SDP',\n",
    "    'MOT17-06-DPM',\n",
    "    'MOT17-06-FRCNN',\n",
    "    'MOT17-06-SDP',\n",
    "    'MOT17-07-DPM',\n",
    "    'MOT17-07-FRCNN',\n",
    "    'MOT17-07-SDP',\n",
    "    'MOT17-08-DPM',\n",
    "    'MOT17-08-FRCNN',\n",
    "    'MOT17-08-SDP',\n",
    "    'MOT17-12-DPM',\n",
    "    'MOT17-12-FRCNN',\n",
    "    'MOT17-12-SDP',\n",
    "    'MOT17-14-DPM',\n",
    "    'MOT17-14-FRCNN',\n",
    "    'MOT17-14-SDP',\n",
    "]"
   ]
  },
  {
   "cell_type": "code",
   "execution_count": 21,
   "metadata": {},
   "outputs": [
    {
     "data": {
      "text/plain": [
       "'MOT17-12-DPM'"
      ]
     },
     "execution_count": 21,
     "metadata": {},
     "output_type": "execute_result"
    }
   ],
   "source": [
    "dir_names[15]"
   ]
  },
  {
   "cell_type": "code",
   "execution_count": 22,
   "metadata": {},
   "outputs": [],
   "source": [
    "def load_detections(det_file):\n",
    "    raw_data = np.genfromtxt(det_file, delimiter=',')\n",
    "    detections = raw_data\n",
    "    return detections"
   ]
  },
  {
   "cell_type": "code",
   "execution_count": 23,
   "metadata": {},
   "outputs": [],
   "source": [
    "detections = load_detections(os.path.join('benchmark/MOT17/test', dir_names[15], 'det/det.txt'))"
   ]
  },
  {
   "cell_type": "code",
   "execution_count": null,
   "metadata": {},
   "outputs": [],
   "source": []
  },
  {
   "cell_type": "code",
   "execution_count": 24,
   "metadata": {},
   "outputs": [],
   "source": [
    "detections_new = []\n",
    "for frame_idx in set(detections[:, 0]):\n",
    "    idx = np.where(detections[:, 0] == frame_idx)\n",
    "    detections_new.append(np.stack(detections[idx], axis=0)[:, 2:6])"
   ]
  },
  {
   "cell_type": "code",
   "execution_count": 25,
   "metadata": {},
   "outputs": [
    {
     "data": {
      "text/plain": [
       "888"
      ]
     },
     "execution_count": 25,
     "metadata": {},
     "output_type": "execute_result"
    }
   ],
   "source": [
    "len(detections_new)"
   ]
  },
  {
   "cell_type": "code",
   "execution_count": 26,
   "metadata": {},
   "outputs": [
    {
     "data": {
      "text/plain": [
       "888"
      ]
     },
     "execution_count": 26,
     "metadata": {},
     "output_type": "execute_result"
    }
   ],
   "source": [
    "len(set(detections[:, 0]))"
   ]
  },
  {
   "cell_type": "code",
   "execution_count": 28,
   "metadata": {},
   "outputs": [
    {
     "data": {
      "text/plain": [
       "{0, 444, 445, 448, 450, 452, 453, 454, 455, 456, 457, 473, 478}"
      ]
     },
     "execution_count": 28,
     "metadata": {},
     "output_type": "execute_result"
    }
   ],
   "source": [
    "set(range(900)) - set(detections[:, 0])"
   ]
  },
  {
   "cell_type": "code",
   "execution_count": 40,
   "metadata": {},
   "outputs": [],
   "source": [
    "def load_detections(det_file, num_frames):\n",
    "    detections = []\n",
    "    raw_data = np.genfromtxt(det_file, delimiter=',')\n",
    "    for frame_idx in range(num_frames):\n",
    "        idx = np.where(raw_data[:, 0] == frame_idx+1)\n",
    "        if idx[0].size:\n",
    "            detections.append(np.stack(raw_data[idx], axis=0)[:, 2:6])\n",
    "        else:\n",
    "            detections.append(np.empty(shape=(0,10)))\n",
    "    return detections"
   ]
  },
  {
   "cell_type": "code",
   "execution_count": 41,
   "metadata": {},
   "outputs": [],
   "source": [
    "detections = load_detections(os.path.join('benchmark/MOT17/test', dir_names[15], 'det/det.txt'), 900)"
   ]
  },
  {
   "cell_type": "code",
   "execution_count": 42,
   "metadata": {},
   "outputs": [
    {
     "data": {
      "text/plain": [
       "900"
      ]
     },
     "execution_count": 42,
     "metadata": {},
     "output_type": "execute_result"
    }
   ],
   "source": [
    "len(detections)"
   ]
  },
  {
   "cell_type": "code",
   "execution_count": null,
   "metadata": {},
   "outputs": [],
   "source": []
  }
 ],
 "metadata": {
  "kernelspec": {
   "display_name": "Python 3",
   "language": "python",
   "name": "python3"
  },
  "language_info": {
   "codemirror_mode": {
    "name": "ipython",
    "version": 3
   },
   "file_extension": ".py",
   "mimetype": "text/x-python",
   "name": "python",
   "nbconvert_exporter": "python",
   "pygments_lexer": "ipython3",
   "version": "3.7.1"
  }
 },
 "nbformat": 4,
 "nbformat_minor": 2
}
